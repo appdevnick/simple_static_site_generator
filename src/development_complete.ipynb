{
 "cells": [
  {
   "cell_type": "markdown",
   "metadata": {
    "editable": true,
    "slideshow": {
     "slide_type": ""
    },
    "tags": []
   },
   "source": [
    "# Development Notebook\n",
    "Use this notebook to experiment with your code and see how it works."
   ]
  },
  {
   "cell_type": "code",
   "execution_count": 1,
   "metadata": {},
   "outputs": [],
   "source": [
    "# Import all custom types and functions\n",
    "from enum import Enum\n",
    "from typing import List\n",
    "\n",
    "# Core classes\n",
    "from textnode import TextNode, TextType\n",
    "from htmlnode import HTMLNode\n",
    "from leafnode import LeafNode\n",
    "from parentnode import ParentNode\n",
    "\n",
    "# Utility functions\n",
    "from utils import (\n",
    "    extract_markdown_images,\n",
    "    extract_markdown_links,\n",
    "    split_nodes_delimiter,\n",
    "    text_to_textnodes,\n",
    "    split_nodes_image,\n",
    "    split_nodes_link,\n",
    "    markdown_to_html_node,\n",
    ")"
   ]
  },
  {
   "cell_type": "code",
   "execution_count": 2,
   "metadata": {},
   "outputs": [],
   "source": [
    "markdown = \"\"\"\n",
    "    # Heading\n",
    "\n",
    "    This is a paragraph with **bold** and *italic* text and a [link](https://example.com).\n",
    "\n",
    "    ![image](https://example.com/image.png)\n",
    "    \"\"\""
   ]
  },
  {
   "cell_type": "code",
   "execution_count": 3,
   "metadata": {},
   "outputs": [
    {
     "ename": "NameError",
     "evalue": "name 'block_to_html_node' is not defined",
     "output_type": "error",
     "traceback": [
      "\u001b[0;31m---------------------------------------------------------------------------\u001b[0m",
      "\u001b[0;31mNameError\u001b[0m                                 Traceback (most recent call last)",
      "Cell \u001b[0;32mIn[3], line 1\u001b[0m\n\u001b[0;32m----> 1\u001b[0m node \u001b[38;5;241m=\u001b[39m \u001b[43mmarkdown_to_html_node\u001b[49m\u001b[43m(\u001b[49m\u001b[43mmarkdown\u001b[49m\u001b[43m)\u001b[49m\n\u001b[1;32m      2\u001b[0m to_html \u001b[38;5;241m=\u001b[39m node\u001b[38;5;241m.\u001b[39mto_html()\n",
      "File \u001b[0;32m~/Documents/ssg-part-deux/src/utils.py:206\u001b[0m, in \u001b[0;36mmarkdown_to_html_node\u001b[0;34m(markdown)\u001b[0m\n\u001b[1;32m    204\u001b[0m         child \u001b[38;5;241m=\u001b[39m block_quote_to_html_node(block)\n\u001b[1;32m    205\u001b[0m     \u001b[38;5;28;01melse\u001b[39;00m:\n\u001b[0;32m--> 206\u001b[0m         child \u001b[38;5;241m=\u001b[39m \u001b[43mblock_to_html_node\u001b[49m(block)\n\u001b[1;32m    207\u001b[0m     children\u001b[38;5;241m.\u001b[39mappend(child)\n\u001b[1;32m    209\u001b[0m final_node \u001b[38;5;241m=\u001b[39m ParentNode(\u001b[38;5;124m\"\u001b[39m\u001b[38;5;124mdiv\u001b[39m\u001b[38;5;124m\"\u001b[39m, children)\n",
      "\u001b[0;31mNameError\u001b[0m: name 'block_to_html_node' is not defined"
     ]
    }
   ],
   "source": [
    "node = markdown_to_html_node(markdown)\n",
    "to_html = node.to_html()"
   ]
  },
  {
   "cell_type": "code",
   "execution_count": null,
   "metadata": {},
   "outputs": [],
   "source": []
  }
 ],
 "metadata": {
  "kernelspec": {
   "display_name": "Python 3 (ipykernel)",
   "language": "python",
   "name": "python3"
  },
  "language_info": {
   "codemirror_mode": {
    "name": "ipython",
    "version": 3
   },
   "file_extension": ".py",
   "mimetype": "text/x-python",
   "name": "python",
   "nbconvert_exporter": "python",
   "pygments_lexer": "ipython3",
   "version": "3.10.16"
  }
 },
 "nbformat": 4,
 "nbformat_minor": 4
}
