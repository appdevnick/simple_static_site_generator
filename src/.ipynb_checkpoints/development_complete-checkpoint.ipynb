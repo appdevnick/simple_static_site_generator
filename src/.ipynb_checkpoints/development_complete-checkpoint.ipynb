{
 "cells": [
  {
   "cell_type": "markdown",
   "metadata": {
    "editable": true,
    "slideshow": {
     "slide_type": ""
    },
    "tags": []
   },
   "source": [
    "# Development Notebook\n",
    "Use this notebook to experiment with your code and see how it works."
   ]
  },
  {
   "cell_type": "code",
   "execution_count": 1,
   "metadata": {},
   "outputs": [
    {
     "ename": "ImportError",
     "evalue": "cannot import name 'block_to_html_node' from 'utils' (/home/nm/Documents/ssg-part-deux/src/utils.py)",
     "output_type": "error",
     "traceback": [
      "\u001b[0;31m---------------------------------------------------------------------------\u001b[0m",
      "\u001b[0;31mImportError\u001b[0m                               Traceback (most recent call last)",
      "Cell \u001b[0;32mIn[1], line 12\u001b[0m\n\u001b[1;32m      9\u001b[0m \u001b[38;5;28;01mfrom\u001b[39;00m \u001b[38;5;21;01mparentnode\u001b[39;00m \u001b[38;5;28;01mimport\u001b[39;00m ParentNode\n\u001b[1;32m     11\u001b[0m \u001b[38;5;66;03m# Utility functions\u001b[39;00m\n\u001b[0;32m---> 12\u001b[0m \u001b[38;5;28;01mfrom\u001b[39;00m \u001b[38;5;21;01mutils\u001b[39;00m \u001b[38;5;28;01mimport\u001b[39;00m (\n\u001b[1;32m     13\u001b[0m     extract_markdown_images,\n\u001b[1;32m     14\u001b[0m     extract_markdown_links,\n\u001b[1;32m     15\u001b[0m     split_nodes_delimiter,\n\u001b[1;32m     16\u001b[0m     text_to_textnodes,\n\u001b[1;32m     17\u001b[0m     split_nodes_image,\n\u001b[1;32m     18\u001b[0m     split_nodes_link,\n\u001b[1;32m     19\u001b[0m     markdown_to_html_node,\n\u001b[1;32m     20\u001b[0m     block_to_html_node,\n\u001b[1;32m     21\u001b[0m )\n",
      "\u001b[0;31mImportError\u001b[0m: cannot import name 'block_to_html_node' from 'utils' (/home/nm/Documents/ssg-part-deux/src/utils.py)"
     ]
    }
   ],
   "source": [
    "# Import all custom types and functions\n",
    "from enum import Enum\n",
    "from typing import List\n",
    "\n",
    "# Core classes\n",
    "from textnode import TextNode, TextType\n",
    "from htmlnode import HTMLNode\n",
    "from leafnode import LeafNode\n",
    "from parentnode import ParentNode\n",
    "\n",
    "# Utility functions\n",
    "from utils import (\n",
    "    extract_markdown_images,\n",
    "    extract_markdown_links,\n",
    "    split_nodes_delimiter,\n",
    "    text_to_textnodes,\n",
    "    split_nodes_image,\n",
    "    split_nodes_link,\n",
    "    markdown_to_html_node,\n",
    ")"
   ]
  },
  {
   "cell_type": "code",
   "execution_count": null,
   "metadata": {
    "jupyter": {
     "source_hidden": true
    }
   },
   "outputs": [],
   "source": [
    "markdown = \"\"\"\n",
    "    # Heading\n",
    "\n",
    "    This is a paragraph with **bold** and *italic* text and a [link](https://example.com).\n",
    "\n",
    "    ![image](https://example.com/image.png)\n",
    "    \"\"\""
   ]
  },
  {
   "cell_type": "code",
   "execution_count": null,
   "metadata": {},
   "outputs": [],
   "source": [
    "node = markdown_to_html_node(markdown)\n",
    "to_html = node.to_html()"
   ]
  },
  {
   "cell_type": "code",
   "execution_count": null,
   "metadata": {},
   "outputs": [],
   "source": []
  }
 ],
 "metadata": {
  "kernelspec": {
   "display_name": "Python 3 (ipykernel)",
   "language": "python",
   "name": "python3"
  },
  "language_info": {
   "codemirror_mode": {
    "name": "ipython",
    "version": 3
   },
   "file_extension": ".py",
   "mimetype": "text/x-python",
   "name": "python",
   "nbconvert_exporter": "python",
   "pygments_lexer": "ipython3",
   "version": "3.10.16"
  }
 },
 "nbformat": 4,
 "nbformat_minor": 4
}
