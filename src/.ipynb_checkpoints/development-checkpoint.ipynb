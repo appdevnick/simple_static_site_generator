{
 "cells": [
  {
   "cell_type": "markdown",
   "metadata": {},
   "source": [
    "# Development Notebook\n",
    "Use this notebook to experiment with your code and see how it works."
   ]
  },
  {
   "cell_type": "code",
   "execution_count": null,
   "metadata": {},
   "source": [
    "# Import your modules\n",
    "from textnode import TextNode\n",
    "from htmlnode import HTMLNode\n",
    "from leafnode import LeafNode\n",
    "from parentnode import ParentNode\n",
    "import utils\n",
    "\n",
    "# Now you can experiment with your code here\n",
    "# For example:\n",
    "text_node = TextNode(\"Hello, World!\", \"bold\")\n",
    "print(text_node)"
   ]
  }
 ],
 "metadata": {
  "kernelspec": {
   "display_name": "Python 3",
   "language": "python",
   "name": "python3"
  }
 },
 "nbformat": 4,
 "nbformat_minor": 4
}
